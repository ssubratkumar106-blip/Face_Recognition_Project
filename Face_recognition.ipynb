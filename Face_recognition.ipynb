{
 "cells": [
  {
   "cell_type": "code",
   "execution_count": 1,
   "id": "dd7e47e4-491b-4558-b1ff-4fe70b12d56e",
   "metadata": {},
   "outputs": [],
   "source": [
    "import cv2\n",
    "import numpy as np\n",
    "import face_recognition as fr"
   ]
  },
  {
   "cell_type": "code",
   "execution_count": 2,
   "id": "0d79ea64-6b04-46e1-a550-4c87db779eaa",
   "metadata": {},
   "outputs": [],
   "source": [
    "video_capture = cv2.VideoCapture(0)"
   ]
  },
  {
   "cell_type": "code",
   "execution_count": 3,
   "id": "f4543fcf-cf58-4785-85e5-6040024abd80",
   "metadata": {},
   "outputs": [],
   "source": [
    "import face_recognition as fr\n",
    "\n",
    "# full path to my image\n",
    "image = fr.load_image_file(\"sri.jpg\")\n",
    "# C:\\Users\\DELL\\OneDrive\\Desktop\\Face_recognition1\\sri.jpg\n"
   ]
  },
  {
   "cell_type": "code",
   "execution_count": 4,
   "id": "78272902-9028-4557-bf2e-b5d17cebd5bd",
   "metadata": {},
   "outputs": [],
   "source": [
    "image_face_encoding = fr.face_encodings(image)[0]"
   ]
  },
  {
   "cell_type": "code",
   "execution_count": 5,
   "id": "5f646b3d-6d0c-4983-af3e-9c2d1c765d7e",
   "metadata": {},
   "outputs": [],
   "source": [
    "known_face_encodings = [image_face_encoding]"
   ]
  },
  {
   "cell_type": "code",
   "execution_count": 6,
   "id": "3146d2e1-0e04-4232-9dcb-7ec8e7861651",
   "metadata": {},
   "outputs": [],
   "source": [
    "known_face_names =[\"Srikanta\"] "
   ]
  },
  {
   "cell_type": "code",
   "execution_count": null,
   "id": "6388126e-2c42-4188-91f0-ff7f6b601f8d",
   "metadata": {},
   "outputs": [],
   "source": [
    "while True:\n",
    "    ret, frame = video_capture.read()\n",
    "    \n",
    "    # Convert BGR to RGB\n",
    "    rgb_frame = cv2.cvtColor(frame, cv2.COLOR_BGR2RGB)\n",
    "    \n",
    "    fc_locations = fr.face_locations(rgb_frame)\n",
    "    fc_encodings = fr.face_encodings(rgb_frame, fc_locations)\n",
    "    \n",
    "    for (top, right, bottom, left), face_encoding in zip(fc_locations, fc_encodings):\n",
    "        matches = fr.compare_faces(known_face_encodings, face_encoding)\n",
    "        name = \"Unknown\"\n",
    "        \n",
    "        if True in matches:\n",
    "            match_index = matches.index(True)\n",
    "            name = known_face_names[match_index]\n",
    "        \n",
    "        # Draw rectangle and name\n",
    "        cv2.rectangle(frame, (left, top), (right, bottom), (0, 255, 0), 2)\n",
    "        cv2.putText(frame, name, (left, top - 10), cv2.FONT_HERSHEY_SIMPLEX, 0.75, (0, 255, 0), 2)\n",
    "    \n",
    "    cv2.imshow('Face Recognition', frame)\n",
    "    \n",
    "    if cv2.waitKey(1) & 0xFF == ord('q'):\n",
    "        break\n",
    "\n",
    "video_capture.release()\n",
    "cv2.destroyAllWindows()\n"
   ]
  }
 ],
 "metadata": {
  "kernelspec": {
   "display_name": "Python 3",
   "language": "python",
   "name": "python3"
  },
  "language_info": {
   "codemirror_mode": {
    "name": "ipython",
    "version": 3
   },
   "file_extension": ".py",
   "mimetype": "text/x-python",
   "name": "python",
   "nbconvert_exporter": "python",
   "pygments_lexer": "ipython3",
   "version": "3.10.9"
  }
 },
 "nbformat": 4,
 "nbformat_minor": 5
}
